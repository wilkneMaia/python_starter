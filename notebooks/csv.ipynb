{
 "cells": [
  {
   "cell_type": "code",
   "execution_count": 13,
   "metadata": {},
   "outputs": [],
   "source": [
    "import pandas as pd\n",
    "import glob\n",
    "import os"
   ]
  },
  {
   "cell_type": "code",
   "execution_count": 5,
   "metadata": {},
   "outputs": [],
   "source": [
    "# Função para obter todos os arquivos CSV no diretório especificado\n",
    "def obter_arquivos_csv(caminho):\n",
    "    # glob.glob retorna uma lista de caminhos que correspondem ao padrão especificado\n",
    "    return glob.glob(os.path.join(caminho, '*.csv'))\n",
    "\n",
    "# Função para ler os arquivos CSV e armazenar os dados em uma lista de dataframes\n",
    "def ler_arquivos_csv(arquivos_csv):\n",
    "    lista = []\n",
    "    for arquivo in arquivos_csv:\n",
    "        # pd.read_csv lê o arquivo CSV e retorna um dataframe\n",
    "        df = pd.read_csv(arquivo, index_col=None, header=0)\n",
    "        lista.append(df)\n",
    "    return lista\n",
    "\n",
    "# Função para concatenar todos os dataframes na lista em um único dataframe\n",
    "def concatenar_dataframes(lista):\n",
    "    if not lista:\n",
    "        print('Nenhum dado para concatenar.')\n",
    "        return None\n",
    "    else:\n",
    "        # pd.concat concatena os dataframes ao longo do eixo especificado (0 = linhas, 1 = colunas)\n",
    "        return pd.concat(lista, axis=0, ignore_index=True)\n",
    "\n",
    "# Função para obter o dataframe final, que é uma combinação do dataframe existente e do novo dataframe\n",
    "def obter_dataframe_final(caminho_novo_arquivo, df_novo):\n",
    "    if os.path.exists(caminho_novo_arquivo):\n",
    "        df_existente = pd.read_csv(caminho_novo_arquivo, index_col=None, header=0)\n",
    "        # pd.concat concatena os dataframes e drop_duplicates remove as linhas duplicadas\n",
    "        return pd.concat([df_existente, df_novo]).drop_duplicates().reset_index(drop=True)\n",
    "    else:\n",
    "        return df_novo\n",
    "\n",
    "# Função para salvar o dataframe final em um arquivo CSV\n",
    "def salvar_dataframe(df_final, caminho_novo_arquivo):\n",
    "    df_final.to_csv(caminho_novo_arquivo, index=False)\n",
    "\n",
    "# Função principal que chama todas as outras funções na ordem correta\n",
    "def main():\n",
    "    caminho = os.path.join(os.sep, 'Users', 'wilkne', 'Downloads', 'Power')\n",
    "    arquivos_csv = obter_arquivos_csv(caminho)\n",
    "    lista = ler_arquivos_csv(arquivos_csv)\n",
    "    df_novo = concatenar_dataframes(lista)\n",
    "    if df_novo is not None:\n",
    "        caminho_novo_arquivo = os.path.join(caminho, 'arquivo.csv')\n",
    "        df_final = obter_dataframe_final(caminho_novo_arquivo, df_novo)\n",
    "        salvar_dataframe(df_final, caminho_novo_arquivo)\n",
    "\n",
    "# Se este script for o arquivo principal, chame a função main\n",
    "if __name__ == \"__main__\":\n",
    "    main()"
   ]
  }
 ],
 "metadata": {
  "kernelspec": {
   "display_name": ".venv",
   "language": "python",
   "name": "python3"
  },
  "language_info": {
   "codemirror_mode": {
    "name": "ipython",
    "version": 3
   },
   "file_extension": ".py",
   "mimetype": "text/x-python",
   "name": "python",
   "nbconvert_exporter": "python",
   "pygments_lexer": "ipython3",
   "version": "3.11.1"
  }
 },
 "nbformat": 4,
 "nbformat_minor": 2
}
