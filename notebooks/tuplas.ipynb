{
 "cells": [
  {
   "cell_type": "code",
   "execution_count": 3,
   "metadata": {},
   "outputs": [
    {
     "name": "stdout",
     "output_type": "stream",
     "text": [
      "('Wilkne', '11/01/1983', 40)\n"
     ]
    }
   ],
   "source": [
    "vendas = ('Wilkne', '11/01/1983', 40)\n",
    "print(vendas)"
   ]
  },
  {
   "cell_type": "markdown",
   "metadata": {},
   "source": [
    "## Acessando o valor de uma tubla"
   ]
  },
  {
   "cell_type": "code",
   "execution_count": 4,
   "metadata": {},
   "outputs": [
    {
     "name": "stdout",
     "output_type": "stream",
     "text": [
      "Wilkne\n"
     ]
    }
   ],
   "source": [
    "nomeindice_1 = vendas[0]\n",
    "print(nomeindice_1)"
   ]
  },
  {
   "cell_type": "code",
   "execution_count": 5,
   "metadata": {},
   "outputs": [
    {
     "name": "stdout",
     "output_type": "stream",
     "text": [
      "40\n"
     ]
    }
   ],
   "source": [
    "nome, data_nascimento, idade = vendas\n",
    "\n",
    "print(idade)"
   ]
  },
  {
   "cell_type": "code",
   "execution_count": 6,
   "metadata": {},
   "outputs": [
    {
     "name": "stdout",
     "output_type": "stream",
     "text": [
      "Mariane vendeu 100 unidades\n",
      "John vendeu 200 unidades\n",
      "Maria vendeu 300 unidades\n"
     ]
    }
   ],
   "source": [
    "vendas = [100, 200, 300]\n",
    "colaboradores = ['Mariane', 'John', 'Maria']\n",
    "\n",
    "for i, vendas in enumerate(vendas):\n",
    "    print('{} vendeu {} unidades'.format(colaboradores[i], vendas))"
   ]
  },
  {
   "cell_type": "code",
   "execution_count": 7,
   "metadata": {},
   "outputs": [],
   "source": [
    "vendas = [\n",
    "    ('20/08/2023', 'iPhone X', 'azul', '128gb', 350, 4000),\n",
    "    ('21/08/2023', 'iPhone X', 'preto', '256gb', 127, 6000),\n",
    "    ('21/08/2023', 'ipad', 'prata', '64gb', 50, 3000)\n",
    "]"
   ]
  },
  {
   "cell_type": "markdown",
   "metadata": {},
   "source": [
    "- Qual o faturamento do iPhone no dia 21/08/2023"
   ]
  },
  {
   "cell_type": "code",
   "execution_count": 8,
   "metadata": {},
   "outputs": [
    {
     "name": "stdout",
     "output_type": "stream",
     "text": [
      "O faturamento de iPhone X no dia 21/08/2023 foi de 762000\n"
     ]
    }
   ],
   "source": [
    "faturamento = 0\n",
    "# for data, produto, cor, capacidade, unidade, valor_unitario in vendas:\n",
    "for item in vendas:\n",
    "    data, produto, cor, capacidade, unidade, valor_unitario = item\n",
    "    if produto == 'iPhone X' and data == '21/08/2023':\n",
    "        faturamento += unidade * valor_unitario\n",
    "\n",
    "print(f'O faturamento de iPhone X no dia 21/08/2023 foi de {faturamento}')"
   ]
  },
  {
   "cell_type": "markdown",
   "metadata": {},
   "source": [
    "- Qual foi o item mais vendido (em unidades) no dia 21/08/2023"
   ]
  },
  {
   "cell_type": "code",
   "execution_count": 9,
   "metadata": {},
   "outputs": [
    {
     "name": "stdout",
     "output_type": "stream",
     "text": [
      "Meu produto mais vendido foi iPhone X com 127\n"
     ]
    }
   ],
   "source": [
    "produto_mais_vendido = ''\n",
    "qtde_produto_mais_vendido = 0\n",
    "\n",
    "for data, produto, cor, capacidade, unidades, valor_unitario in vendas:\n",
    "    if data == '21/08/2023':\n",
    "        if unidades > qtde_produto_mais_vendido:\n",
    "            produto_mais_vendido = produto\n",
    "            qtde_produto_mais_vendido = unidades\n",
    "\n",
    "print(\n",
    "    f'Meu produto mais vendido foi {produto_mais_vendido} com {qtde_produto_mais_vendido}')"
   ]
  },
  {
   "cell_type": "code",
   "execution_count": 10,
   "metadata": {},
   "outputs": [
    {
     "name": "stdout",
     "output_type": "stream",
     "text": [
      "Maria bateu a meta, vendeu 12000 unidades.\n"
     ]
    }
   ],
   "source": [
    "meta = 10000\n",
    "vendas = [\n",
    "    ('Mariane',9800),\n",
    "    ('John',9000),\n",
    "    ('Maria',12000),\n",
    "]\n",
    "\n",
    "for vendedor, qtde in vendas:\n",
    "    if qtde >= meta:\n",
    "        print(f'{vendedor} bateu a meta, vendeu {qtde} unidades.')"
   ]
  },
  {
   "cell_type": "code",
   "execution_count": 11,
   "metadata": {},
   "outputs": [
    {
     "name": "stdout",
     "output_type": "stream",
     "text": [
      "iPad teve 32456 vendas em 2021, 36951 vendas em 2022. Crecimento de 0.13849519349272854%\n",
      "iMac teve 7563 vendas em 2021, 8513 vendas em 2022. Crecimento de 0.1256115298162106%\n"
     ]
    }
   ],
   "source": [
    "vendas_produtos = [\n",
    "    ('iPhone', 558147, 95224),\n",
    "    ('iPad', 32456, 36951),\n",
    "    ('iMac', 7563, 8513)\n",
    "    ]\n",
    "\n",
    "#\n",
    "for produto, vendas2021, vendas2022 in vendas_produtos:\n",
    "    if vendas2022 > vendas2021:\n",
    "        crecimento = vendas2022 / vendas2021 - 1\n",
    "        print(f'{produto} teve {vendas2021} vendas em 2021, {vendas2022} vendas em 2022. Crecimento de {crecimento}%')"
   ]
  }
 ],
 "metadata": {
  "kernelspec": {
   "display_name": ".venv",
   "language": "python",
   "name": "python3"
  },
  "language_info": {
   "codemirror_mode": {
    "name": "ipython",
    "version": 3
   },
   "file_extension": ".py",
   "mimetype": "text/x-python",
   "name": "python",
   "nbconvert_exporter": "python",
   "pygments_lexer": "ipython3",
   "version": "3.11.1"
  }
 },
 "nbformat": 4,
 "nbformat_minor": 2
}
